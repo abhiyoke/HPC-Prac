{
  "nbformat": 4,
  "nbformat_minor": 0,
  "metadata": {
    "colab": {
      "provenance": [],
      "gpuType": "T4",
      "authorship_tag": "ABX9TyN4C/zxueIQGe/NeE0z3FdV",
      "include_colab_link": true
    },
    "kernelspec": {
      "name": "python3",
      "display_name": "Python 3"
    },
    "language_info": {
      "name": "python"
    },
    "accelerator": "GPU"
  },
  "cells": [
    {
      "cell_type": "markdown",
      "metadata": {
        "id": "view-in-github",
        "colab_type": "text"
      },
      "source": [
        "<a href=\"https://colab.research.google.com/github/abhiyoke/HPC-Prac/blob/main/mpi_quick_sort.ipynb\" target=\"_parent\"><img src=\"https://colab.research.google.com/assets/colab-badge.svg\" alt=\"Open In Colab\"/></a>"
      ]
    },
    {
      "cell_type": "code",
      "execution_count": null,
      "metadata": {
        "colab": {
          "base_uri": "https://localhost:8080/"
        },
        "id": "2OoTBp3h3lBp",
        "outputId": "64e166d7-ec2a-4809-d4e9-0085759d2725"
      },
      "outputs": [
        {
          "output_type": "stream",
          "name": "stdout",
          "text": [
            "Reading package lists... Done\n",
            "Building dependency tree... Done\n",
            "Reading state information... Done\n",
            "libopenmpi-dev is already the newest version (4.1.2-2ubuntu1).\n",
            "openmpi-bin is already the newest version (4.1.2-2ubuntu1).\n",
            "openmpi-bin set to manually installed.\n",
            "0 upgraded, 0 newly installed, 0 to remove and 34 not upgraded.\n",
            "Collecting mpi4py\n",
            "  Downloading mpi4py-4.0.3.tar.gz (466 kB)\n",
            "\u001b[2K     \u001b[90m━━━━━━━━━━━━━━━━━━━━━━━━━━━━━━━━━━━━━━\u001b[0m \u001b[32m466.3/466.3 kB\u001b[0m \u001b[31m21.1 MB/s\u001b[0m eta \u001b[36m0:00:00\u001b[0m\n",
            "\u001b[?25h  Installing build dependencies ... \u001b[?25l\u001b[?25hdone\n",
            "  Getting requirements to build wheel ... \u001b[?25l\u001b[?25hdone\n",
            "  Installing backend dependencies ... \u001b[?25l\u001b[?25hdone\n",
            "  Preparing metadata (pyproject.toml) ... \u001b[?25l\u001b[?25hdone\n",
            "Building wheels for collected packages: mpi4py\n",
            "  Building wheel for mpi4py (pyproject.toml) ... \u001b[?25l\u001b[?25hdone\n",
            "  Created wheel for mpi4py: filename=mpi4py-4.0.3-cp311-cp311-linux_x86_64.whl size=4458270 sha256=143b90c2acb621be17287b359bb3297e3577f412bb8b15b5cbc6a603047d5640\n",
            "  Stored in directory: /root/.cache/pip/wheels/5c/56/17/bf6ba37aa971a191a8b9eaa188bf5ec855b8911c1c56fb1f84\n",
            "Successfully built mpi4py\n",
            "Installing collected packages: mpi4py\n",
            "Successfully installed mpi4py-4.0.3\n"
          ]
        }
      ],
      "source": [
        "# Run this in a Colab cell first to set up MPI\n",
        "!apt-get install -y openmpi-bin libopenmpi-dev\n",
        "!pip install mpi4py"
      ]
    },
    {
      "cell_type": "code",
      "source": [
        "%%writefile mpi_quicksort.cpp\n",
        "#include <bits/stdc++.h>\n",
        "#include <mpi.h>\n",
        "using namespace std;\n",
        "\n",
        "void quick_sort(vector<int>& arr, int left, int right) {\n",
        "    if (left >= right) return;\n",
        "    int pivot = arr[right], i = left;\n",
        "    for (int j = left; j < right; j++)\n",
        "        if (arr[j] <= pivot) std::swap(arr[i++], arr[j]);\n",
        "    std::swap(arr[i], arr[right]);\n",
        "    quick_sort(arr, left, i-1);\n",
        "    quick_sort(arr, i+1, right);\n",
        "}\n",
        "\n",
        "vector<int> merge(const std::vector<int>& a, const std::vector<int>& b) {\n",
        "    vector<int> result;\n",
        "    int i = 0, j = 0;\n",
        "    while (i < a.size() && j < b.size()) {\n",
        "        if (a[i] < b[j]) {\n",
        "            result.push_back(a[i++]);\n",
        "        } else {\n",
        "            result.push_back(b[j++]);\n",
        "        }\n",
        "    }\n",
        "    while (i < a.size()) result.push_back(a[i++]);\n",
        "    while (j < b.size()) result.push_back(b[j++]);\n",
        "    return result;\n",
        "}\n",
        "\n",
        "int main() {\n",
        "    MPI_Init(NULL, NULL);\n",
        "\n",
        "    int rank, size;\n",
        "    MPI_Comm_rank(MPI_COMM_WORLD, &rank);\n",
        "    MPI_Comm_size(MPI_COMM_WORLD, &size);\n",
        "\n",
        "    const int N = 20;\n",
        "    vector<int> data(N), local(N/size);\n",
        "\n",
        "    // Root process generates data\n",
        "    if (rank == 0) {\n",
        "        for (int i = 0; i < N; i++) {\n",
        "            data[i] = rand() % 100;\n",
        "        }\n",
        "        cout << \"Unsorted: \";\n",
        "        for (int i = 0; i < 10; i++) std::cout << data[i] << \" \";\n",
        "        cout << \"...\\n\";\n",
        "    }\n",
        "\n",
        "    // Scatter data\n",
        "    MPI_Scatter(data.data(), N/size, MPI_INT,\n",
        "                local.data(), N/size, MPI_INT,\n",
        "                0, MPI_COMM_WORLD);\n",
        "\n",
        "    // Each process sorts its portion\n",
        "    quick_sort(local, 0, local.size()-1);\n",
        "\n",
        "    // Gather sorted portions\n",
        "    MPI_Gather(local.data(), N/size, MPI_INT,\n",
        "               data.data(), N/size, MPI_INT,\n",
        "               0, MPI_COMM_WORLD);\n",
        "\n",
        "    // Root merges results using custom merge function\n",
        "    if (rank == 0) {\n",
        "        vector<int> sorted;\n",
        "        for (int i = 0; i < size; i++) {\n",
        "            auto start = data.begin() + i*(N/size);\n",
        "            auto end = start + (N/size);\n",
        "            sorted = merge(sorted, std::vector<int>(start, end));\n",
        "        }\n",
        "\n",
        "        cout << \"Sorted: \";\n",
        "        for (int i = 0; i < 10; i++) std::cout << sorted[i] << \" \";\n",
        "        cout << \"...\\n\";\n",
        "    }\n",
        "\n",
        "    MPI_Finalize();\n",
        "    return 0;\n",
        "}"
      ],
      "metadata": {
        "colab": {
          "base_uri": "https://localhost:8080/"
        },
        "id": "f8Gmvjdy8G1g",
        "outputId": "36c8e763-bf8c-4b3f-d10d-7d9824e7f899"
      },
      "execution_count": null,
      "outputs": [
        {
          "output_type": "stream",
          "name": "stdout",
          "text": [
            "Overwriting mpi_quicksort.cpp\n"
          ]
        }
      ]
    },
    {
      "cell_type": "code",
      "source": [
        "!mpic++ mpi_quicksort.cpp -o output_file_name\n",
        "!mpirun --allow-run-as-root -np 1 ./output_file_name"
      ],
      "metadata": {
        "colab": {
          "base_uri": "https://localhost:8080/"
        },
        "id": "Sk1aLpt_8SSd",
        "outputId": "51a206ff-f73b-42c1-c53c-60cee3da53c6"
      },
      "execution_count": null,
      "outputs": [
        {
          "output_type": "stream",
          "name": "stdout",
          "text": [
            "Unsorted: 83 86 77 15 93 35 86 92 49 21 ...\n",
            "Sorted: 15 21 26 26 27 35 36 40 49 59 ...\n"
          ]
        }
      ]
    }
  ]
}